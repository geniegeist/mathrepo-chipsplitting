{
 "cells": [
  {
   "cell_type": "code",
   "execution_count": 3,
   "id": "058f7acf-344f-43c1-b443-a0dfd4f80f56",
   "metadata": {},
   "outputs": [],
   "source": [
    "import time\n",
    "import pickle\n",
    "import math\n",
    "import numpy as np\n",
    "from scipy.linalg import solve, LinAlgError\n",
    "from itertools import combinations\n",
    "from multiprocess import Pool, cpu_count\n",
    "from functools import lru_cache\n",
    "from tqdm import tqdm\n",
    "from chipsplitting.utils import gauss, get_array_index, to_coordinate"
   ]
  },
  {
   "cell_type": "markdown",
   "id": "0463a4ae-dfff-49c7-b66d-0c1e9cf5a185",
   "metadata": {},
   "source": [
    "# Finding fundamental models\n",
    "\n",
    "We first reduced our search space by excluding support candidates in $V_d$, see the `support_candidates.ipynb` jupyter notebook.\n",
    "\n",
    "Next, we check a support candidate $S = \\{ (\\nu_i, \\mu_i) \\}_{i=0}^n$ is the support of a fundamental model by solving for the scaling coefficients $c_i$ that satisfy the constraint $\\sum_{i=0}^n c_i t^{\\nu_i} (1-t)^{\\mu_i} = 1$. If the scalings are unique and non-negative, we have found a fundamental model.\n",
    "\n",
    "The following algorithm is a parallelized version of [BM25_MATHREPO], Step 4."
   ]
  },
  {
   "cell_type": "code",
   "execution_count": 19,
   "id": "d4970a54-bd03-4128-83c0-33d6654fc786",
   "metadata": {},
   "outputs": [],
   "source": [
    "@lru_cache(maxsize=None)\n",
    "def expand_expression(expression):\n",
    "    if expression.startswith('t^'):\n",
    "        power = int(expression[2:])\n",
    "        return tuple([1 if k == power else 0 for k in range(power + 1)])\n",
    "    elif expression.startswith('(1-t)^'):\n",
    "        power = int(expression[len('(1-t)^'):])\n",
    "        return tuple([math.comb(power,k) * (-1)**(k) for k in range(power + 1)])\n",
    "    else:\n",
    "        raise ValueError(\"Invalid expression\")\n",
    "\n",
    "@lru_cache(maxsize=None)\n",
    "def multiply_expression(left_exp: list[int], right_exp: list[int]):\n",
    "    left_power = len(left_exp) - 1\n",
    "    right_power = len(right_exp) - 1\n",
    "    degree = left_power + right_power\n",
    "    t_coefficients = [0] * (degree + 1)\n",
    "    for a in range(left_power + 1):\n",
    "        for b in range(right_power + 1):\n",
    "            t_coefficients[a + b] += left_exp[a] * right_exp[b]\n",
    "    return tuple(t_coefficients)\n",
    "\n",
    "def pad_with_zero(array, desired_length: int):\n",
    "    if len(array) < desired_length:\n",
    "        return list(array) + [0] * (desired_length - len(array))\n",
    "    return array\n",
    "\n",
    "def create_matrix_from_support(degree: int, support: list[int]):\n",
    "    support = [to_coordinate(index) for index in support]\n",
    "    A = np.array([pad_with_zero(multiply_expression(expand_expression(f\"t^{col}\"), expand_expression(f\"(1-t)^{row}\")), degree + 1) for col, row in support])\n",
    "    return A.T\n",
    "\n",
    "def is_fundamental(support_as_index, degree):\n",
    "    A = create_matrix_from_support(degree, support_as_index)\n",
    "    b = np.array([1] + [0] * degree)\n",
    "    sol, norm, rank, singular_values = np.linalg.lstsq(A, b, rcond=None)\n",
    "\n",
    "    if rank < len(support_as_index):\n",
    "        return None    \n",
    "\n",
    "    if len(norm) == 0:\n",
    "        return sol\n",
    "    if np.isclose(norm[0], 0):\n",
    "        if norm[0] <1e-20:\n",
    "            return sol\n",
    "        else:\n",
    "            print(norm)\n",
    "            assert False\n",
    "    \n",
    "    return None\n",
    "\n",
    "def apply_symmetry(config):\n",
    "    def swap(tuple):\n",
    "        return (tuple[1], tuple[0])\n",
    "    def to_array_index(tuple):\n",
    "        return get_array_index(tuple[0], tuple[1])\n",
    "    return tuple(sorted([to_array_index(swap(to_coordinate(index))) for index in config]))\n",
    "\n",
    "def is_positive(solution):\n",
    "    for x in solution:\n",
    "        if np.isclose(x,0):\n",
    "            return False\n",
    "        if x < 0:\n",
    "            return False\n",
    "    return True\n",
    "\n",
    "def is_parametric(solution):\n",
    "    for x in solution:\n",
    "        if not x.is_number:\n",
    "            return True\n",
    "    return False\n",
    "\n",
    "def is_asymmetric(support):\n",
    "    return list(support) != list(apply_symmetry(support))\n",
    "\n",
    "\n",
    "def process_single_support(args):\n",
    "    support, n, d = args\n",
    "    fundamental = set()\n",
    "\n",
    "    if len(support) <= n:\n",
    "        num_selections = n + 1 - len(support)\n",
    "        domain = [x for x in range(gauss(d + 1)) if x not in support]\n",
    "        S = [tuple(sorted(support + c)) for c in combinations(domain, num_selections)]\n",
    "    elif len(support) == n + 1:\n",
    "        S = [support]\n",
    "    else:\n",
    "        return fundamental  # Shouldn't happen\n",
    "\n",
    "    for s in S:\n",
    "        solution = is_fundamental(s, d)\n",
    "        if solution is not None and is_positive(solution):\n",
    "            fundamental.add(tuple(s))\n",
    "            if is_asymmetric(s):\n",
    "                fundamental.add(tuple(sorted(apply_symmetry(s))))\n",
    "    \n",
    "    return fundamental\n",
    "\n",
    "def find_fundamental_models_parallel(n, d, supports_to_check):\n",
    "    start = time.time()\n",
    "    num_workers = cpu_count()\n",
    "    print(f\"Using {num_workers} parallel processes\")\n",
    "\n",
    "    args = [(tuple(support), n, d) for support in supports_to_check]\n",
    "\n",
    "    fundamental_models = set()\n",
    "    with Pool(processes=num_workers) as pool:\n",
    "        for result in tqdm(pool.imap_unordered(process_single_support, args), total=len(args)):\n",
    "            fundamental_models.update(result)\n",
    "\n",
    "    end = time.time()\n",
    "\n",
    "    return fundamental_models"
   ]
  },
  {
   "cell_type": "markdown",
   "id": "25857348-9ab0-401d-927c-04aee826e563",
   "metadata": {},
   "source": [
    "## Fundamental models in $\\Delta_1, \\Delta_2, \\Delta_3, \\Delta_4, \\Delta_5$ and $\\Delta_6$"
   ]
  },
  {
   "cell_type": "code",
   "execution_count": 18,
   "id": "ce613282-80ba-4471-aff7-fdb44f9eb067",
   "metadata": {},
   "outputs": [
    {
     "name": "stdout",
     "output_type": "stream",
     "text": [
      "Using 12 parallel processes\n",
      "\n",
      "\n",
      "n=1-----------------------------------------------\n"
     ]
    },
    {
     "name": "stderr",
     "output_type": "stream",
     "text": [
      "100%|████████████████████████████████████████████████████████████████████████████████████████████████████████████████████████████████████████████████████████████████████████████████████████| 1/1 [00:00<00:00, 1567.38it/s]"
     ]
    },
    {
     "name": "stdout",
     "output_type": "stream",
     "text": [
      "n=1 , d=1  | Fundamental models found: 1       | Time:  0.05s\n",
      "-----------------------------------------------\n",
      "\n",
      "\n",
      "\n",
      "n=2-----------------------------------------------\n"
     ]
    },
    {
     "name": "stderr",
     "output_type": "stream",
     "text": [
      "\n",
      "100%|████████████████████████████████████████████████████████████████████████████████████████████████████████████████████████████████████████████████████████████████████████████████████████| 2/2 [00:00<00:00, 3914.42it/s]"
     ]
    },
    {
     "name": "stdout",
     "output_type": "stream",
     "text": [
      "n=2 , d=2  | Fundamental models found: 3       | Time:  0.04s\n"
     ]
    },
    {
     "name": "stderr",
     "output_type": "stream",
     "text": [
      "\n",
      "100%|████████████████████████████████████████████████████████████████████████████████████████████████████████████████████████████████████████████████████████████████████████████████████████| 1/1 [00:00<00:00, 3228.87it/s]"
     ]
    },
    {
     "name": "stdout",
     "output_type": "stream",
     "text": [
      "n=2 , d=3  | Fundamental models found: 1       | Time:  0.04s\n",
      "-----------------------------------------------\n",
      "\n",
      "\n",
      "\n",
      "n=3-----------------------------------------------\n"
     ]
    },
    {
     "name": "stderr",
     "output_type": "stream",
     "text": [
      "\n",
      "100%|████████████████████████████████████████████████████████████████████████████████████████████████████████████████████████████████████████████████████████████████████████████████████| 10/10 [00:00<00:00, 188932.61it/s]"
     ]
    },
    {
     "name": "stdout",
     "output_type": "stream",
     "text": [
      "n=3 , d=3  | Fundamental models found: 12      | Time:  0.04s\n"
     ]
    },
    {
     "name": "stderr",
     "output_type": "stream",
     "text": [
      "\n",
      "100%|██████████████████████████████████████████████████████████████████████████████████████████████████████████████████████████████████████████████████████████████████████████████████████| 8/8 [00:00<00:00, 196224.75it/s]"
     ]
    },
    {
     "name": "stdout",
     "output_type": "stream",
     "text": [
      "n=3 , d=4  | Fundamental models found: 4       | Time:  0.04s\n"
     ]
    },
    {
     "name": "stderr",
     "output_type": "stream",
     "text": [
      "\n",
      "100%|███████████████████████████████████████████████████████████████████████████████████████████████████████████████████████████████████████████████████████████████████████████████████████| 4/4 [00:00<00:00, 21988.49it/s]\n"
     ]
    },
    {
     "name": "stdout",
     "output_type": "stream",
     "text": [
      "n=3 , d=5  | Fundamental models found: 2       | Time:  0.03s\n",
      "-----------------------------------------------\n",
      "\n",
      "\n",
      "\n",
      "n=4-----------------------------------------------\n"
     ]
    },
    {
     "name": "stderr",
     "output_type": "stream",
     "text": [
      "100%|█████████████████████████████████████████████████████████████████████████████████████████████████████████████████████████████████████████████████████████████████████████████████████| 81/81 [00:00<00:00, 70251.99it/s]\n"
     ]
    },
    {
     "name": "stdout",
     "output_type": "stream",
     "text": [
      "n=4 , d=4  | Fundamental models found: 82      | Time:  0.04s\n"
     ]
    },
    {
     "name": "stderr",
     "output_type": "stream",
     "text": [
      "100%|███████████████████████████████████████████████████████████████████████████████████████████████████████████████████████████████████████████████████████████████████████████████████| 198/198 [00:00<00:00, 66736.76it/s]"
     ]
    },
    {
     "name": "stdout",
     "output_type": "stream",
     "text": [
      "n=4 , d=5  | Fundamental models found: 38      | Time:  0.05s\n"
     ]
    },
    {
     "name": "stderr",
     "output_type": "stream",
     "text": [
      "\n",
      "100%|███████████████████████████████████████████████████████████████████████████████████████████████████████████████████████████████████████████████████████████████████████████████████| 304/304 [00:00<00:00, 77610.84it/s]"
     ]
    },
    {
     "name": "stdout",
     "output_type": "stream",
     "text": [
      "n=4 , d=6  | Fundamental models found: 10      | Time:  0.06s\n"
     ]
    },
    {
     "name": "stderr",
     "output_type": "stream",
     "text": [
      "\n",
      "100%|███████████████████████████████████████████████████████████████████████████████████████████████████████████████████████████████████████████████████████████████████████████████████| 376/376 [00:00<00:00, 84096.32it/s]"
     ]
    },
    {
     "name": "stdout",
     "output_type": "stream",
     "text": [
      "n=4 , d=7  | Fundamental models found: 4       | Time:  0.07s\n",
      "-----------------------------------------------\n",
      "\n",
      "\n",
      "\n",
      "n=5-----------------------------------------------\n"
     ]
    },
    {
     "name": "stderr",
     "output_type": "stream",
     "text": [
      "\n",
      "100%|███████████████████████████████████████████████████████████████████████████████████████████████████████████████████████████████████████████████████████████████████████████████████| 931/931 [00:00<00:00, 31693.53it/s]"
     ]
    },
    {
     "name": "stdout",
     "output_type": "stream",
     "text": [
      "n=5 , d=5  | Fundamental models found: 602     | Time:  0.13s\n"
     ]
    },
    {
     "name": "stderr",
     "output_type": "stream",
     "text": [
      "\n",
      "100%|█████████████████████████████████████████████████████████████████████████████████████████████████████████████████████████████████████████████████████████████████████████████████| 3390/3390 [00:00<00:00, 23304.25it/s]"
     ]
    },
    {
     "name": "stdout",
     "output_type": "stream",
     "text": [
      "n=5 , d=6  | Fundamental models found: 254     | Time:  0.38s\n"
     ]
    },
    {
     "name": "stderr",
     "output_type": "stream",
     "text": [
      "\n",
      "100%|█████████████████████████████████████████████████████████████████████████████████████████████████████████████████████████████████████████████████████████████████████████████████| 8455/8455 [00:00<00:00, 12539.09it/s]"
     ]
    },
    {
     "name": "stdout",
     "output_type": "stream",
     "text": [
      "n=5 , d=7  | Fundamental models found: 88      | Time:  0.92s\n"
     ]
    },
    {
     "name": "stderr",
     "output_type": "stream",
     "text": [
      "\n",
      "100%|███████████████████████████████████████████████████████████████████████████████████████████████████████████████████████████████████████████████████████████████████████████████| 16643/16643 [00:01<00:00, 10919.53it/s]"
     ]
    },
    {
     "name": "stdout",
     "output_type": "stream",
     "text": [
      "n=5 , d=8  | Fundamental models found: 24      | Time:  1.78s\n"
     ]
    },
    {
     "name": "stderr",
     "output_type": "stream",
     "text": [
      "\n",
      "100%|███████████████████████████████████████████████████████████████████████████████████████████████████████████████████████████████████████████████████████████████████████████████| 29042/29042 [00:02<00:00, 10231.70it/s]"
     ]
    },
    {
     "name": "stdout",
     "output_type": "stream",
     "text": [
      "n=5 , d=9  | Fundamental models found: 2       | Time:  3.09s\n",
      "-----------------------------------------------\n",
      "\n",
      "\n",
      "\n",
      "n=6-----------------------------------------------\n"
     ]
    },
    {
     "name": "stderr",
     "output_type": "stream",
     "text": [
      "\n",
      "100%|██████████████████████████████████████████████████████████████████████████████████████████████████████████████████████████████████████████████████████████████████████████████████| 8125/8125 [00:00<00:00, 8419.30it/s]\n"
     ]
    },
    {
     "name": "stdout",
     "output_type": "stream",
     "text": [
      "n=6 , d=6  | Fundamental models found: 6710    | Time:  1.05s\n"
     ]
    },
    {
     "name": "stderr",
     "output_type": "stream",
     "text": [
      "100%|████████████████████████████████████████████████████████████████████████████████████████████████████████████████████████████████████████████████████████████████████████████████| 43762/43762 [00:04<00:00, 8855.76it/s]\n"
     ]
    },
    {
     "name": "stdout",
     "output_type": "stream",
     "text": [
      "n=6 , d=7  | Fundamental models found: 2421    | Time:  5.08s\n"
     ]
    },
    {
     "name": "stderr",
     "output_type": "stream",
     "text": [
      "100%|██████████████████████████████████████████████████████████████████████████████████████████████████████████████████████████████████████████████████████████████████████████████| 147585/147585 [00:16<00:00, 8874.24it/s]\n"
     ]
    },
    {
     "name": "stdout",
     "output_type": "stream",
     "text": [
      "n=6 , d=8  | Fundamental models found: 643     | Time: 16.73s\n"
     ]
    },
    {
     "name": "stderr",
     "output_type": "stream",
     "text": [
      "100%|██████████████████████████████████████████████████████████████████████████████████████████████████████████████████████████████████████████████████████████████████████████████| 409230/409230 [00:46<00:00, 8849.12it/s]\n"
     ]
    },
    {
     "name": "stdout",
     "output_type": "stream",
     "text": [
      "n=6 , d=9  | Fundamental models found: 198     | Time: 46.55s\n"
     ]
    },
    {
     "name": "stderr",
     "output_type": "stream",
     "text": [
      "100%|██████████████████████████████████████████████████████████████████████████████████████████████████████████████████████████████████████████████████████████████████████████████| 954041/954041 [01:48<00:00, 8816.37it/s]\n"
     ]
    },
    {
     "name": "stdout",
     "output_type": "stream",
     "text": [
      "n=6 , d=10 | Fundamental models found: 32      | Time: 108.61s\n"
     ]
    },
    {
     "name": "stderr",
     "output_type": "stream",
     "text": [
      "100%|████████████████████████████████████████████████████████████████████████████████████████████████████████████████████████████████████████████████████████████████████████████| 1927213/1927213 [03:39<00:00, 8775.24it/s]\n"
     ]
    },
    {
     "name": "stdout",
     "output_type": "stream",
     "text": [
      "n=6 , d=11 | Fundamental models found: 4       | Time: 220.16s\n",
      "-----------------------------------------------\n",
      "\n",
      "\n",
      "\n"
     ]
    }
   ],
   "source": [
    "num_workers = cpu_count()\n",
    "print(f\"Using {num_workers} parallel processes\\n\\n\")\n",
    "\n",
    "for n in [1,2,3,4,5,6]:\n",
    "    print(f\"n={n}-----------------------------------------------\")\n",
    "    for d in range(n, 2*n):\n",
    "        with open(f'data/n{n:02}_d{d:02}.pkl', 'rb') as f:\n",
    "            data = [list(candidate) for candidate in pickle.load(f)]\n",
    "            iter_start_time = time.perf_counter()\n",
    "            fundamental_models = find_fundamental_models_parallel(n, d, data)\n",
    "            iter_elapsed_time = time.perf_counter() - iter_start_time\n",
    "            print(f\"n={n:<2}, d={d:<2} | Fundamental models found: {len(fundamental_models):<7} | Time: {iter_elapsed_time:>5.2f}s\")\n",
    "        \n",
    "            with open(f'fundamental-models/n{n:02d}_d{d:02d}.pkl', 'wb') as f:\n",
    "                pickle.dump(fundamental_models, f)\n",
    "    print(\"-----------------------------------------------\")\n",
    "    print(\"\\n\" * 2)"
   ]
  },
  {
   "cell_type": "markdown",
   "id": "8d85b1b8-fb70-4e12-96bb-a7693decfa22",
   "metadata": {},
   "source": [
    "## Fundamental models in $\\Delta_7$"
   ]
  },
  {
   "cell_type": "code",
   "execution_count": 3,
   "id": "99a2911b-5bfa-4948-8350-7e335d719c4c",
   "metadata": {},
   "outputs": [
    {
     "name": "stdout",
     "output_type": "stream",
     "text": [
      "Using 12 parallel processes\n"
     ]
    },
    {
     "name": "stderr",
     "output_type": "stream",
     "text": [
      "100%|█████████████████████████████████████████████████████████████████| 15779/15779 [00:16<00:00, 967.19it/s]"
     ]
    },
    {
     "name": "stdout",
     "output_type": "stream",
     "text": [
      "n=7 , d=7  | Fundamental models found: 83906   | Time: 16.43s\n"
     ]
    },
    {
     "name": "stderr",
     "output_type": "stream",
     "text": [
      "\n"
     ]
    }
   ],
   "source": [
    "n, d = 7, 7\n",
    "\n",
    "with open(f'data/n{n:02}_d{d:02}_minimal.pkl', 'rb') as f:\n",
    "    data = [list(candidate) for candidate in pickle.load(f)]\n",
    "    iter_start_time = time.perf_counter()\n",
    "    fundamental_models = find_fundamental_models_parallel(n, d, data)\n",
    "    iter_elapsed_time = time.perf_counter() - iter_start_time\n",
    "    print(f\"n={n:<2}, d={d:<2} | Fundamental models found: {len(fundamental_models):<7} | Time: {iter_elapsed_time:>5.2f}s\")\n",
    "\n",
    "    with open(f'fundamental-models/n{n:02d}_d{d:02d}.pkl', 'wb') as f:\n",
    "        pickle.dump(fundamental_models, f)"
   ]
  },
  {
   "cell_type": "code",
   "execution_count": 16,
   "id": "5926ff4a-f783-441f-acfc-34bf40bcf6d1",
   "metadata": {},
   "outputs": [
    {
     "name": "stdout",
     "output_type": "stream",
     "text": [
      "Using 12 parallel processes\n"
     ]
    },
    {
     "name": "stderr",
     "output_type": "stream",
     "text": [
      "100%|████████████████████████████████████████████████████████████████| 64000/64000 [00:48<00:00, 1316.09it/s]"
     ]
    },
    {
     "name": "stdout",
     "output_type": "stream",
     "text": [
      "n=7 , d=8  | Fundamental models found: 23285   | Time: 48.74s\n"
     ]
    },
    {
     "name": "stderr",
     "output_type": "stream",
     "text": [
      "\n"
     ]
    }
   ],
   "source": [
    "n, d = 7, 8\n",
    "\n",
    "with open(f'data/n{n:02}_d{d:02}_minimal.pkl', 'rb') as f:\n",
    "    data = [list(candidate) for candidate in pickle.load(f)]\n",
    "    iter_start_time = time.perf_counter()\n",
    "    fundamental_models = find_fundamental_models_parallel(n, d, data)\n",
    "    iter_elapsed_time = time.perf_counter() - iter_start_time\n",
    "    print(f\"n={n:<2}, d={d:<2} | Fundamental models found: {len(fundamental_models):<7} | Time: {iter_elapsed_time:>5.2f}s\")\n",
    "\n",
    "    with open(f'fundamental-models/n{n:02d}_d{d:02d}.pkl', 'wb') as f:\n",
    "        pickle.dump(fundamental_models, f)"
   ]
  },
  {
   "cell_type": "code",
   "execution_count": 4,
   "id": "289efe55-eeb9-4363-ac80-3d27f8984fba",
   "metadata": {},
   "outputs": [
    {
     "name": "stdout",
     "output_type": "stream",
     "text": [
      "Using 12 parallel processes\n"
     ]
    },
    {
     "name": "stderr",
     "output_type": "stream",
     "text": [
      "100%|████████████████████████████████████████████████████████████| 1927201/1927201 [04:48<00:00, 6690.52it/s]"
     ]
    },
    {
     "name": "stdout",
     "output_type": "stream",
     "text": [
      "n=7 , d=9  | Fundamental models found: 6445    | Time: 288.47s\n"
     ]
    },
    {
     "name": "stderr",
     "output_type": "stream",
     "text": [
      "\n"
     ]
    }
   ],
   "source": [
    "n, d = 7, 9\n",
    "\n",
    "with open(f'data/n{n:02}_d{d:02}.pkl', 'rb') as f:\n",
    "    data = [list(candidate) for candidate in pickle.load(f)]\n",
    "    iter_start_time = time.perf_counter()\n",
    "    fundamental_models = find_fundamental_models_parallel(n, d, data)\n",
    "    iter_elapsed_time = time.perf_counter() - iter_start_time\n",
    "    print(f\"n={n:<2}, d={d:<2} | Fundamental models found: {len(fundamental_models):<7} | Time: {iter_elapsed_time:>5.2f}s\")\n",
    "\n",
    "    with open(f'fundamental-models/n{n:02d}_d{d:02d}.pkl', 'wb') as f:\n",
    "        pickle.dump(fundamental_models, f)"
   ]
  },
  {
   "cell_type": "code",
   "execution_count": 5,
   "id": "a486f906-115b-4227-8b4a-10478d7618e0",
   "metadata": {},
   "outputs": [
    {
     "name": "stdout",
     "output_type": "stream",
     "text": [
      "Using 12 parallel processes\n"
     ]
    },
    {
     "name": "stderr",
     "output_type": "stream",
     "text": [
      "100%|████████████████████████████████████████████████████████████| 6508380/6508380 [14:32<00:00, 7459.34it/s]\n"
     ]
    },
    {
     "name": "stdout",
     "output_type": "stream",
     "text": [
      "n=7 , d=10 | Fundamental models found: 1442    | Time: 873.87s\n"
     ]
    }
   ],
   "source": [
    "n, d = 7, 10\n",
    "with open(f'data/n{n:02}_d{d:02}.pkl', 'rb') as f:\n",
    "    data = [list(candidate) for candidate in pickle.load(f)]\n",
    "    iter_start_time = time.perf_counter()\n",
    "    fundamental_models = find_fundamental_models_parallel(n, d, data)\n",
    "    iter_elapsed_time = time.perf_counter() - iter_start_time\n",
    "    print(f\"n={n:<2}, d={d:<2} | Fundamental models found: {len(fundamental_models):<7} | Time: {iter_elapsed_time:>5.2f}s\")\n",
    "\n",
    "    with open(f'fundamental-models/n{n:02d}_d{d:02d}.pkl', 'wb') as f:\n",
    "        pickle.dump(fundamental_models, f)"
   ]
  },
  {
   "cell_type": "code",
   "execution_count": 3,
   "id": "0f5fa62a-d51d-4db7-bd38-ca6e54b87d3a",
   "metadata": {
    "scrolled": true
   },
   "outputs": [
    {
     "name": "stdout",
     "output_type": "stream",
     "text": [
      "Using 12 parallel processes\n"
     ]
    },
    {
     "name": "stderr",
     "output_type": "stream",
     "text": [
      "100%|██████████████████████████████████████████████████████████| 18676991/18676991 [39:50<00:00, 7813.80it/s]\n"
     ]
    },
    {
     "name": "stdout",
     "output_type": "stream",
     "text": [
      "n=7 , d=11 | Fundamental models found: 332     | Time: 2393.49s\n"
     ]
    }
   ],
   "source": [
    "n, d = 7, 11\n",
    "with open(f'data/n{n:02}_d{d:02}.pkl', 'rb') as f:\n",
    "    data = [list(candidate) for candidate in pickle.load(f)]\n",
    "    iter_start_time = time.perf_counter()\n",
    "    fundamental_models = find_fundamental_models_parallel(n, d, data)\n",
    "    iter_elapsed_time = time.perf_counter() - iter_start_time\n",
    "    print(f\"n={n:<2}, d={d:<2} | Fundamental models found: {len(fundamental_models):<7} | Time: {iter_elapsed_time:>5.2f}s\")\n",
    "\n",
    "    with open(f'fundamental-models/n{n:02d}_d{d:02d}.pkl', 'wb') as f:\n",
    "        pickle.dump(fundamental_models, f)"
   ]
  },
  {
   "cell_type": "code",
   "execution_count": 4,
   "id": "3a5364ed-bdb2-48db-8605-1b442774fbb0",
   "metadata": {},
   "outputs": [
    {
     "name": "stdout",
     "output_type": "stream",
     "text": [
      "Using 12 parallel processes\n"
     ]
    },
    {
     "name": "stderr",
     "output_type": "stream",
     "text": [
      "100%|████████████████████████████████████████████████████████| 47682475/47682475 [1:38:41<00:00, 8051.82it/s]\n"
     ]
    },
    {
     "name": "stdout",
     "output_type": "stream",
     "text": [
      "n=7 , d=12 | Fundamental models found: 56      | Time: 5930.48s\n"
     ]
    }
   ],
   "source": [
    "n, d = 7, 12\n",
    "with open(f'data/n{n:02}_d{d:02}.pkl', 'rb') as f:\n",
    "    data = [list(candidate) for candidate in pickle.load(f)]\n",
    "    iter_start_time = time.perf_counter()\n",
    "    fundamental_models = find_fundamental_models_parallel(n, d, data)\n",
    "    iter_elapsed_time = time.perf_counter() - iter_start_time\n",
    "    print(f\"n={n:<2}, d={d:<2} | Fundamental models found: {len(fundamental_models):<7} | Time: {iter_elapsed_time:>5.2f}s\")\n",
    "\n",
    "    with open(f'fundamental-models/n{n:02d}_d{d:02d}.pkl', 'wb') as f:\n",
    "        pickle.dump(fundamental_models, f)"
   ]
  },
  {
   "cell_type": "code",
   "execution_count": 4,
   "id": "2faa03cf-58a6-4dab-9bf5-d17909975253",
   "metadata": {},
   "outputs": [
    {
     "name": "stdout",
     "output_type": "stream",
     "text": [
      "n=7 | d=13 | 107547676 supports to check (parallelized)\n",
      "Using 12 parallel processes\n"
     ]
    },
    {
     "name": "stderr",
     "output_type": "stream",
     "text": [
      "100%|██████████████████████████████████████████████████████| 107547676/107547676 [3:53:50<00:00, 7665.30it/s]\n"
     ]
    },
    {
     "name": "stdout",
     "output_type": "stream",
     "text": [
      "Solved linear equations for all supports. Elapsed time: 14036.57s\n",
      "\n",
      "We have found 8 fundamental models.\n",
      "There exist exactly 8 unique fundamental models ✨\n",
      "Serialized to fundamental-models/n07_d13.pkl\n",
      "------------------------------------\n"
     ]
    }
   ],
   "source": [
    "n, d = 7, 13\n",
    "with open(f'data/n{n:02}_d{d:02}.pkl', 'rb') as f:\n",
    "    data = [list(candidate) for candidate in pickle.load(f)]\n",
    "    iter_start_time = time.perf_counter()\n",
    "    fundamental_models = find_fundamental_models_parallel(n, d, data)\n",
    "    iter_elapsed_time = time.perf_counter() - iter_start_time\n",
    "    print(f\"n={n:<2}, d={d:<2} | Fundamental models found: {len(fundamental_models):<7} | Time: {iter_elapsed_time:>5.2f}s\")\n",
    "\n",
    "    with open(f'fundamental-models/n{n:02d}_d{d:02d}.pkl', 'wb') as f:\n",
    "        pickle.dump(fundamental_models, f)"
   ]
  },
  {
   "cell_type": "markdown",
   "id": "a9a8c9e0-2ed1-41b5-ae0e-7f24581fd0dd",
   "metadata": {},
   "source": [
    "## $n = 8$"
   ]
  },
  {
   "cell_type": "code",
   "execution_count": 4,
   "id": "2f16c9d1-6ccb-4d10-af04-42e34fd93d43",
   "metadata": {},
   "outputs": [
    {
     "name": "stdout",
     "output_type": "stream",
     "text": [
      "n=8 | d=8 | 66830 supports to check (parallelized)\n",
      "Using 12 parallel processes\n"
     ]
    },
    {
     "name": "stderr",
     "output_type": "stream",
     "text": [
      "100%|██████████████████████████████████████████████████████████████████████████████████████████████████████████████████████████████████████████████████████████████████████████████████| 66830/66830 [11:33<00:00, 96.41it/s]\n"
     ]
    },
    {
     "name": "stdout",
     "output_type": "stream",
     "text": [
      "Solved linear equations for all supports. Elapsed time: 693.29s\n",
      "\n",
      "We have found 1279349 fundamental models.\n",
      "There exist exactly 1279349 unique fundamental models ✨\n",
      "Serialized to fundamental-models/n08_d08.pkl\n",
      "------------------------------------\n"
     ]
    }
   ],
   "source": [
    "n, d = 8, 8\n",
    "with open(f'data/n{n:02}_d{d:02}_minimal.pkl', 'rb') as f:\n",
    "    data = pickle.load(f)\n",
    "    fundamental_models = find_fundamental_models_parallel(n, d, data)\n",
    "    print(f\"There exist exactly {len(fundamental_models)} unique fundamental models ✨\")\n",
    "    with open(f'fundamental-models/n{n:02d}_d{d:02d}.pkl', 'wb') as f:\n",
    "        pickle.dump(fundamental_models, f)\n",
    "        print(f\"Serialized to {f.name}\")\n",
    "        print(\"------------------------------------\")"
   ]
  },
  {
   "cell_type": "code",
   "execution_count": 4,
   "id": "04366917-6414-4fa3-89cf-09e2edcc1af0",
   "metadata": {},
   "outputs": [
    {
     "name": "stdout",
     "output_type": "stream",
     "text": [
      "n=8 | d=9 | 462075 supports to check (parallelized)\n",
      "Using 12 parallel processes\n"
     ]
    },
    {
     "name": "stderr",
     "output_type": "stream",
     "text": [
      "100%|███████████████████████████████████████████████████████████████████████████████████████████████████████████████████████████████████████████████████████████████████████████████| 462075/462075 [43:08<00:00, 178.52it/s]"
     ]
    },
    {
     "name": "stdout",
     "output_type": "stream",
     "text": [
      "Solved linear equations for all supports. Elapsed time: 2588.41s\n",
      "\n",
      "We have found 285601 fundamental models.\n",
      "There exist exactly 285601 unique fundamental models ✨\n",
      "Serialized to fundamental-models/n08_d09.pkl\n",
      "------------------------------------\n"
     ]
    },
    {
     "name": "stderr",
     "output_type": "stream",
     "text": [
      "\n"
     ]
    }
   ],
   "source": [
    "n, d = 8, 9\n",
    "with open(f'data/n{n:02}_d{d:02}_minimal.pkl', 'rb') as f:\n",
    "    data = pickle.load(f)\n",
    "    fundamental_models = find_fundamental_models_parallel(n, d, data)\n",
    "    print(f\"There exist exactly {len(fundamental_models)} unique fundamental models ✨\")\n",
    "\n",
    "    with open(f'fundamental-models/n{n:02d}_d{d:02d}.pkl', 'wb') as f:\n",
    "        pickle.dump(fundamental_models, f)\n",
    "        print(f\"Serialized to {f.name}\")\n",
    "        print(\"------------------------------------\")"
   ]
  },
  {
   "cell_type": "markdown",
   "id": "f26713ab-3a91-480b-bdc9-bdbbe2af0c2c",
   "metadata": {},
   "source": [
    "# Visualizing fundamental models in $\\Delta_7$ of degree $13$\n",
    "We draw all fundamental models in $\\Delta_7$ of degree $13$."
   ]
  },
  {
   "cell_type": "code",
   "execution_count": 32,
   "id": "079d9ed6-99cc-45de-a540-22cf78a637b0",
   "metadata": {},
   "outputs": [
    {
     "name": "stdout",
     "output_type": "stream",
     "text": [
      "[(1, 6), (3, 5), (5, 4), (7, 3), (9, 2), (11, 1), (0, 13), (13, 0)]\n",
      "   + \n",
      "   .    . \n",
      "   .    .    . \n",
      "   .    .    .    . \n",
      "   .    .    .    .    . \n",
      "   .    .    .    .    .    . \n",
      "   .    .    .    .    .    .    . \n",
      "   .    +    .    .    .    .    .    . \n",
      "   .    .    .    +    .    .    .    .    . \n",
      "   .    .    .    .    .    +    .    .    .    . \n",
      "   .    .    .    .    .    .    .    +    .    .    . \n",
      "   .    .    .    .    .    .    .    .    .    +    .    . \n",
      "   .    .    .    .    .    .    .    .    .    .    .    +    . \n",
      "   -    .    .    .    .    .    .    .    .    .    .    .    .    + \n",
      "\n",
      "----------------------------------------\n",
      "[(6, 1), (5, 3), (4, 5), (3, 7), (2, 9), (1, 11), (0, 13), (13, 0)]\n",
      "   + \n",
      "   .    . \n",
      "   .    +    . \n",
      "   .    .    .    . \n",
      "   .    .    +    .    . \n",
      "   .    .    .    .    .    . \n",
      "   .    .    .    +    .    .    . \n",
      "   .    .    .    .    .    .    .    . \n",
      "   .    .    .    .    +    .    .    .    . \n",
      "   .    .    .    .    .    .    .    .    .    . \n",
      "   .    .    .    .    .    +    .    .    .    .    . \n",
      "   .    .    .    .    .    .    .    .    .    .    .    . \n",
      "   .    .    .    .    .    .    +    .    .    .    .    .    . \n",
      "   -    .    .    .    .    .    .    .    .    .    .    .    .    + \n",
      "\n",
      "----------------------------------------\n",
      "[(1, 1), (1, 6), (8, 2), (7, 4), (1, 11), (11, 1), (0, 13), (13, 0)]\n",
      "   + \n",
      "   .    . \n",
      "   .    +    . \n",
      "   .    .    .    . \n",
      "   .    .    .    .    . \n",
      "   .    .    .    .    .    . \n",
      "   .    .    .    .    .    .    . \n",
      "   .    +    .    .    .    .    .    . \n",
      "   .    .    .    .    .    .    .    .    . \n",
      "   .    .    .    .    .    .    .    +    .    . \n",
      "   .    .    .    .    .    .    .    .    .    .    . \n",
      "   .    .    .    .    .    .    .    .    +    .    .    . \n",
      "   .    +    .    .    .    .    .    .    .    .    .    +    . \n",
      "   -    .    .    .    .    .    .    .    .    .    .    .    .    + \n",
      "\n",
      "----------------------------------------\n",
      "[(1, 1), (6, 1), (2, 8), (4, 7), (1, 11), (11, 1), (0, 13), (13, 0)]\n",
      "   + \n",
      "   .    . \n",
      "   .    +    . \n",
      "   .    .    .    . \n",
      "   .    .    .    .    . \n",
      "   .    .    +    .    .    . \n",
      "   .    .    .    .    +    .    . \n",
      "   .    .    .    .    .    .    .    . \n",
      "   .    .    .    .    .    .    .    .    . \n",
      "   .    .    .    .    .    .    .    .    .    . \n",
      "   .    .    .    .    .    .    .    .    .    .    . \n",
      "   .    .    .    .    .    .    .    .    .    .    .    . \n",
      "   .    +    .    .    .    .    +    .    .    .    .    +    . \n",
      "   -    .    .    .    .    .    .    .    .    .    .    .    .    + \n",
      "\n",
      "----------------------------------------\n",
      "[(3, 3), (6, 1), (3, 7), (7, 3), (2, 9), (1, 11), (0, 13), (13, 0)]\n",
      "   + \n",
      "   .    . \n",
      "   .    +    . \n",
      "   .    .    .    . \n",
      "   .    .    +    .    . \n",
      "   .    .    .    .    .    . \n",
      "   .    .    .    +    .    .    . \n",
      "   .    .    .    .    .    .    .    . \n",
      "   .    .    .    .    .    .    .    .    . \n",
      "   .    .    .    .    .    .    .    .    .    . \n",
      "   .    .    .    +    .    .    .    +    .    .    . \n",
      "   .    .    .    .    .    .    .    .    .    .    .    . \n",
      "   .    .    .    .    .    .    +    .    .    .    .    .    . \n",
      "   -    .    .    .    .    .    .    .    .    .    .    .    .    + \n",
      "\n",
      "----------------------------------------\n",
      "[(1, 1), (1, 6), (7, 3), (9, 2), (1, 11), (11, 1), (0, 13), (13, 0)]\n",
      "   + \n",
      "   .    . \n",
      "   .    +    . \n",
      "   .    .    .    . \n",
      "   .    .    .    .    . \n",
      "   .    .    .    .    .    . \n",
      "   .    .    .    .    .    .    . \n",
      "   .    +    .    .    .    .    .    . \n",
      "   .    .    .    .    .    .    .    .    . \n",
      "   .    .    .    .    .    .    .    .    .    . \n",
      "   .    .    .    .    .    .    .    +    .    .    . \n",
      "   .    .    .    .    .    .    .    .    .    +    .    . \n",
      "   .    +    .    .    .    .    .    .    .    .    .    +    . \n",
      "   -    .    .    .    .    .    .    .    .    .    .    .    .    + \n",
      "\n",
      "----------------------------------------\n",
      "[(1, 1), (6, 1), (3, 7), (2, 9), (1, 11), (11, 1), (0, 13), (13, 0)]\n",
      "   + \n",
      "   .    . \n",
      "   .    +    . \n",
      "   .    .    .    . \n",
      "   .    .    +    .    . \n",
      "   .    .    .    .    .    . \n",
      "   .    .    .    +    .    .    . \n",
      "   .    .    .    .    .    .    .    . \n",
      "   .    .    .    .    .    .    .    .    . \n",
      "   .    .    .    .    .    .    .    .    .    . \n",
      "   .    .    .    .    .    .    .    .    .    .    . \n",
      "   .    .    .    .    .    .    .    .    .    .    .    . \n",
      "   .    +    .    .    .    .    +    .    .    .    .    +    . \n",
      "   -    .    .    .    .    .    .    .    .    .    .    .    .    + \n",
      "\n",
      "----------------------------------------\n",
      "[(3, 3), (1, 6), (3, 7), (7, 3), (9, 2), (11, 1), (0, 13), (13, 0)]\n",
      "   + \n",
      "   .    . \n",
      "   .    .    . \n",
      "   .    .    .    . \n",
      "   .    .    .    .    . \n",
      "   .    .    .    .    .    . \n",
      "   .    .    .    +    .    .    . \n",
      "   .    +    .    .    .    .    .    . \n",
      "   .    .    .    .    .    .    .    .    . \n",
      "   .    .    .    .    .    .    .    .    .    . \n",
      "   .    .    .    +    .    .    .    +    .    .    . \n",
      "   .    .    .    .    .    .    .    .    .    +    .    . \n",
      "   .    .    .    .    .    .    .    .    .    .    .    +    . \n",
      "   -    .    .    .    .    .    .    .    .    .    .    .    .    + \n",
      "\n",
      "----------------------------------------\n"
     ]
    }
   ],
   "source": [
    "import chipsplitting as cs\n",
    "n, d = 7, 13\n",
    "with open(f'fundamental-models/n{n:02}_d{d:02}.pkl', 'rb') as f:\n",
    "    fundamental_models = pickle.load(f)\n",
    "    for m in fundamental_models:\n",
    "        print([to_coordinate(x) for x in m])\n",
    "        l = cs.LinearForm(np.array([1 if i in m else 0 for i in range(gauss(d+1))]), np.array([0 if i > 0 else 1 for i in range(gauss(d+1))])).to_hyperfield()\n",
    "        print(l)\n",
    "        print(\"----------------------------------------\")"
   ]
  },
  {
   "cell_type": "markdown",
   "id": "085e0b44-89c2-4292-8cb2-7fd896c81a9e",
   "metadata": {},
   "source": [
    "# References\n",
    "\n",
    "[BM25] Arthur Bik and Orlando Marigliano. Classifying one-dimensional discrete models with\n",
    "maximum likelihood degree one. Advances in Applied Mathematics, 170:102928, 2025.\n",
    "\n",
    "[BM25_MATHREPO] https://mathrepo.mis.mpg.de/ChipsplittingModels/Section8.html"
   ]
  },
  {
   "cell_type": "code",
   "execution_count": null,
   "id": "e1edce20-a644-4ca7-af6c-eda8f6d29d7c",
   "metadata": {},
   "outputs": [],
   "source": []
  }
 ],
 "metadata": {
  "kernelspec": {
   "display_name": "Python 3 (ipykernel)",
   "language": "python",
   "name": "python3"
  },
  "language_info": {
   "codemirror_mode": {
    "name": "ipython",
    "version": 3
   },
   "file_extension": ".py",
   "mimetype": "text/x-python",
   "name": "python",
   "nbconvert_exporter": "python",
   "pygments_lexer": "ipython3",
   "version": "3.12.6"
  }
 },
 "nbformat": 4,
 "nbformat_minor": 5
}
